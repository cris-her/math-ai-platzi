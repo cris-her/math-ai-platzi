{
 "cells": [
  {
   "cell_type": "markdown",
   "metadata": {},
   "source": [
    "## Resolución de sistema de ecuaciones con GAUSS\n",
    "\n",
    "Dado el sistema de ecuaciones se genera una _matriz compacta_, con la que se busca tener una triangulo formado por **ceros** en la parte inferior de matriz de manera que esta quede triangular.\n",
    "\n",
    "$$\\begin{Bmatrix}\n",
    "2x - y + 3z = 5\\\\ \n",
    "2x + 2y + 3z = 7\\\\ \n",
    "-2x + 3y      = -3\n",
    "\\end{Bmatrix}$$\n",
    "\n",
    "Ahora reescribiendo el sistema como una _matriz compacta_ tendríamos que:\n",
    "\n",
    "$$\\begin{bmatrix}\n",
    "2 & -1 & 3 & 5\\\\ \n",
    "2 & 2 & 3 & 7\\\\ \n",
    "-2 & 3 & 0 & -3\n",
    "\\end{bmatrix}$$\n",
    "\n",
    "Ahora comencemos a operar para obtener nuestra **matriz triangular**."
   ]
  },
  {
   "cell_type": "code",
   "execution_count": 1,
   "metadata": {},
   "outputs": [],
   "source": [
    "import numpy as np"
   ]
  },
  {
   "cell_type": "code",
   "execution_count": 2,
   "metadata": {},
   "outputs": [
    {
     "name": "stdout",
     "output_type": "stream",
     "text": [
      "[[ 2. -1.  3.  5.]\n",
      " [ 2.  2.  3.  7.]\n",
      " [-2.  3.  0. -3.]]\n"
     ]
    }
   ],
   "source": [
    "C = np.array([[2.0, -1.0, 3.0, 5.0], \n",
    "[2, 2, 3, 7],\n",
    "[-2, 3, 0, -3]])\n",
    "T = np.copy(C)\n",
    "\n",
    "print(T)"
   ]
  },
  {
   "cell_type": "code",
   "execution_count": 3,
   "metadata": {},
   "outputs": [
    {
     "name": "stdout",
     "output_type": "stream",
     "text": [
      "[[ 2. -1.  3.  5.]\n",
      " [ 2.  2.  3.  7.]\n",
      " [ 0.  5.  3.  4.]]\n"
     ]
    }
   ],
   "source": [
    "T[2] = T[2] + T[1]\n",
    "print(T)"
   ]
  },
  {
   "cell_type": "code",
   "execution_count": 4,
   "metadata": {},
   "outputs": [
    {
     "name": "stdout",
     "output_type": "stream",
     "text": [
      "[[ 2. -1.  3.  5.]\n",
      " [ 0.  3.  0.  2.]\n",
      " [ 0.  5.  3.  4.]]\n"
     ]
    }
   ],
   "source": [
    "T[1] -= T[0]\n",
    "print(T)"
   ]
  },
  {
   "cell_type": "code",
   "execution_count": 5,
   "metadata": {},
   "outputs": [
    {
     "name": "stdout",
     "output_type": "stream",
     "text": [
      "[[ 2.         -1.          3.          5.        ]\n",
      " [ 0.          3.          0.          2.        ]\n",
      " [ 0.          0.          3.          0.66666667]]\n"
     ]
    }
   ],
   "source": [
    "T[2] = T[2] - (5.0/3.0)*T[1]\n",
    "print(T)"
   ]
  },
  {
   "cell_type": "markdown",
   "metadata": {},
   "source": [
    "Con estas operaciones conseguimos tener nuestra matriz triangular. Nuestro resultado fue el siguiente: \n",
    "\n",
    "\n",
    "$$C = \\begin{bmatrix}\n",
    "2 & -1 & 3 & 5\\\\ \n",
    "2 & 2 & 3 & 7\\\\ \n",
    "-2 & 3 & 0 & -3\n",
    "\\end{bmatrix} \\Rightarrow T = \\begin{bmatrix}\n",
    "2 & -1 & 3 & 5\\\\ \n",
    "0 & 3 & 0 & 2\\\\ \n",
    "0 & 0 & 3 & 0\n",
    "\\end{bmatrix}$$\n",
    "\n",
    "Ahora también podríamos haber utilizado las funciones de **numpy** para obtener un matriz triangular directamente, para esto era necesario utilizar la función `np.triu()`."
   ]
  },
  {
   "cell_type": "code",
   "execution_count": 6,
   "metadata": {},
   "outputs": [
    {
     "name": "stdout",
     "output_type": "stream",
     "text": [
      "[[ 2. -1.  3.  5.]\n",
      " [ 0.  2.  3.  7.]\n",
      " [ 0.  0.  0. -3.]]\n"
     ]
    }
   ],
   "source": [
    "Tn = np.triu(C)\n",
    "print(Tn)"
   ]
  },
  {
   "cell_type": "markdown",
   "metadata": {},
   "source": [
    "para este punto podrías obtener manualmente los valores de cada una de las variables recostruyendo el sistema de ecuaciones, tendríamos que:\n",
    "\n",
    "\n",
    "$$\\begin{Bmatrix}\n",
    "2x - y + 3z = 5\\\\ \n",
    "3y = 2\\\\ \n",
    "3z = \\frac{2}{3}\n",
    "\\end{Bmatrix}$$\n",
    "\n",
    "De esto podemos obtener que:\n",
    "$$\\begin{Bmatrix}\n",
    "x = \\frac{5}{2}\\\\\\ \n",
    "y = \\frac{2}{3}\\\\ \n",
    "z = \\frac{2}{9}\n",
    "\\end{Bmatrix}$$\n",
    "\n",
    "Que este mismo resultado podríamos encontrar utilizando directamente la función de `np.linalg.solve()`."
   ]
  },
  {
   "cell_type": "code",
   "execution_count": 7,
   "metadata": {},
   "outputs": [
    {
     "name": "stdout",
     "output_type": "stream",
     "text": [
      "[[ 2. -1.  3.]\n",
      " [ 2.  2.  3.]\n",
      " [-2.  3.  0.]]\n",
      "[ 5.  7. -3.]\n"
     ]
    }
   ],
   "source": [
    "a = C[:,0:3]\n",
    "b = C[:,3]\n",
    "print(a)\n",
    "print(b)"
   ]
  },
  {
   "cell_type": "code",
   "execution_count": 8,
   "metadata": {},
   "outputs": [
    {
     "name": "stdout",
     "output_type": "stream",
     "text": [
      "[2.5        0.66666667 0.22222222]\n"
     ]
    }
   ],
   "source": [
    "s = np.linalg.solve(a, b)\n",
    "print(s)"
   ]
  }
 ],
 "metadata": {
  "kernelspec": {
   "display_name": "Python 3",
   "language": "python",
   "name": "python3"
  },
  "language_info": {
   "codemirror_mode": {
    "name": "ipython",
    "version": 3
   },
   "file_extension": ".py",
   "mimetype": "text/x-python",
   "name": "python",
   "nbconvert_exporter": "python",
   "pygments_lexer": "ipython3",
   "version": "3.8.1"
  }
 },
 "nbformat": 4,
 "nbformat_minor": 4
}
